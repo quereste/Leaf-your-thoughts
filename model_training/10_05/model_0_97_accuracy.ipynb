{
  "cells": [
    {
      "cell_type": "code",
      "execution_count": 1,
      "metadata": {
        "id": "Ph6oh3UdpM0p"
      },
      "outputs": [],
      "source": [
        "import matplotlib.pyplot as plt\n",
        "import numpy as np\n",
        "import PIL\n",
        "import tensorflow as tf\n",
        "\n",
        "from tensorflow import keras\n",
        "from tensorflow.keras import layers\n",
        "from tensorflow.keras import preprocessing\n",
        "from tensorflow.keras.models import Sequential\n",
        "\n",
        "\n",
        "import pathlib\n"
      ]
    },
    {
      "cell_type": "code",
      "execution_count": 2,
      "metadata": {
        "colab": {
          "base_uri": "https://localhost:8080/"
        },
        "id": "g5QZ2DggpZR_",
        "outputId": "c9e200c3-4e5f-4708-d35e-35eec1d376ad"
      },
      "outputs": [
        {
          "name": "stdout",
          "output_type": "stream",
          "text": [
            "Mounted at /content/gdrive\n"
          ]
        }
      ],
      "source": [
        "from google.colab import drive\n",
        "drive.mount('/content/gdrive', force_remount=True)\n",
        "\n"
      ]
    },
    {
      "cell_type": "code",
      "execution_count": 3,
      "metadata": {
        "colab": {
          "base_uri": "https://localhost:8080/"
        },
        "id": "AQnKnsk-pW33",
        "outputId": "6a17d67b-af18-4d3d-93e7-dafd16780e67"
      },
      "outputs": [
        {
          "name": "stdout",
          "output_type": "stream",
          "text": [
            "4684\n"
          ]
        }
      ],
      "source": [
        "dataset_url = \"/content/gdrive/MyDrive/test_set\"\n",
        "data_dir = pathlib.Path(dataset_url)\n",
        "\n",
        "image_count = len(list(data_dir.glob('*/*.jpg')))\n",
        "print(image_count)"
      ]
    },
    {
      "cell_type": "code",
      "execution_count": 26,
      "metadata": {
        "colab": {
          "base_uri": "https://localhost:8080/"
        },
        "id": "0oUOhZMWqMJC",
        "outputId": "76eeb278-98ad-4271-ce49-702815c8af00"
      },
      "outputs": [
        {
          "name": "stdout",
          "output_type": "stream",
          "text": [
            "Found 4684 files belonging to 8 classes.\n",
            "Using 3748 files for training.\n",
            "Found 4684 files belonging to 8 classes.\n",
            "Using 936 files for validation.\n",
            "['birch', 'hornbeam', 'liriodendron', 'maple', 'red_hornbeam', 'royal_red_maple', 'silver_linden', 'small_leaved_linden']\n"
          ]
        }
      ],
      "source": [
        "batch_size = 16\n",
        "img_height = 400\n",
        "img_width = 300\n",
        "\n",
        "train_X = tf.keras.preprocessing.image_dataset_from_directory(\n",
        "  data_dir,\n",
        "  validation_split=0.2,\n",
        "  subset=\"training\",\n",
        "  seed=123,\n",
        "  image_size=(img_height, img_width),\n",
        "  batch_size=batch_size)\n",
        "\n",
        "val_X = tf.keras.preprocessing.image_dataset_from_directory(\n",
        "  data_dir,\n",
        "  validation_split=0.2,\n",
        "  subset=\"validation\",\n",
        "  seed=123,\n",
        "  image_size=(img_height, img_width),\n",
        "  batch_size=batch_size)\n",
        "\n",
        "#val_X, test_X = tf.keras.utils.split_dataset(val_X, left_size=0.5)\n",
        "\n",
        "class_names = train_X.class_names\n",
        "print(class_names)"
      ]
    },
    {
      "cell_type": "code",
      "execution_count": 31,
      "metadata": {
        "id": "_VQqVWC3tJfg"
      },
      "outputs": [],
      "source": [
        "data_augmentation = keras.Sequential(\n",
        "  [  \n",
        "    layers.RandomFlip(\"horizontal\",\n",
        "                      input_shape=(img_height,\n",
        "                                  img_width,\n",
        "                                  3)),\n",
        "    layers.RandomRotation(0.2),\n",
        "    layers.RandomZoom(0.2),\n",
        "    layers.RandomBrightness([-0.2,0.2]),\n",
        "    layers.RandomContrast(0.2),\n",
        "  ]\n",
        ")\n",
        "\n",
        "\n",
        "normalization_layer = layers.Rescaling(1./255)\n",
        "\n",
        "num_classes = len(class_names)\n",
        "rescaler = layers.Rescaling(1./255)"
      ]
    },
    {
      "cell_type": "code",
      "execution_count": 27,
      "metadata": {
        "id": "8Mhs3wG7qd5M"
      },
      "outputs": [],
      "source": [
        "model1 = Sequential([ # Accuracy ~0.9\n",
        "  data_augmentation,\n",
        "  rescaler,\n",
        "  layers.Conv2D(16, 3, padding='same', activation='relu'),\n",
        "  layers.MaxPooling2D(),\n",
        "  layers.Conv2D(32, 3, padding='same', activation='relu'),\n",
        "  layers.MaxPooling2D(),\n",
        "  layers.Conv2D(64, 3, padding='same', activation='relu'),\n",
        "  layers.MaxPooling2D(),\n",
        "  layers.Dropout(0.2),\n",
        "  layers.Flatten(),\n",
        "  layers.Dense(128, activation='relu'),\n",
        "  layers.Dense(num_classes, name=\"outputs\")\n",
        "])\n",
        "\n"
      ]
    },
    {
      "cell_type": "code",
      "execution_count": 36,
      "metadata": {
        "id": "MTA0zWg_yDNY"
      },
      "outputs": [],
      "source": [
        "model3 = Sequential([ \n",
        "  data_augmentation,\n",
        "  rescaler,\n",
        "  layers.Conv2D(16, 4, padding='same', activation='relu'),\n",
        "  layers.MaxPooling2D(),\n",
        "  layers.Conv2D(32, 4, padding='same', activation='relu'),\n",
        "  layers.MaxPooling2D(),\n",
        "  layers.Conv2D(64, 3, padding='same', activation='relu'),\n",
        "  layers.MaxPooling2D(),\n",
        "  layers.Dropout(0.2),\n",
        "  layers.Conv2D(128, 3, padding='same', activation='relu'),\n",
        "  layers.MaxPooling2D(),\n",
        "  layers.Dropout(0.2),\n",
        "  layers.Flatten(),\n",
        "  layers.Dense(128, activation='relu'),\n",
        "  layers.Dense(num_classes, name=\"outputs\", activation = 'softmax')\n",
        "\n",
        "\n",
        "])"
      ]
    },
    {
      "cell_type": "code",
      "execution_count": 29,
      "metadata": {
        "id": "oV-DKUflvQVL"
      },
      "outputs": [],
      "source": []
    },
    {
      "cell_type": "code",
      "execution_count": 37,
      "metadata": {
        "colab": {
          "base_uri": "https://localhost:8080/"
        },
        "id": "Vnoc1gkrqmH1",
        "outputId": "5e4713cf-1485-4f25-ace9-4fdae3186b01"
      },
      "outputs": [
        {
          "name": "stdout",
          "output_type": "stream",
          "text": [
            "Epoch 1/100\n",
            "235/235 [==============================] - 24s 89ms/step - loss: 1.6735 - accuracy: 0.3559\n",
            "Epoch 2/100\n",
            "235/235 [==============================] - 21s 87ms/step - loss: 1.1221 - accuracy: 0.5672\n",
            "Epoch 3/100\n",
            "235/235 [==============================] - 21s 86ms/step - loss: 0.8539 - accuracy: 0.6980\n",
            "Epoch 4/100\n",
            "235/235 [==============================] - 21s 87ms/step - loss: 0.7467 - accuracy: 0.7292\n",
            "Epoch 5/100\n",
            "235/235 [==============================] - 27s 114ms/step - loss: 0.6499 - accuracy: 0.7721 - val_loss: 0.5539 - val_accuracy: 0.8152\n",
            "Epoch 6/100\n",
            "235/235 [==============================] - 21s 86ms/step - loss: 0.6652 - accuracy: 0.7511\n",
            "Epoch 7/100\n",
            "235/235 [==============================] - 21s 88ms/step - loss: 0.5911 - accuracy: 0.7908\n",
            "Epoch 8/100\n",
            "235/235 [==============================] - 22s 92ms/step - loss: 0.5576 - accuracy: 0.8026\n",
            "Epoch 9/100\n",
            "235/235 [==============================] - 22s 88ms/step - loss: 0.4877 - accuracy: 0.8279\n",
            "Epoch 10/100\n",
            "235/235 [==============================] - 24s 101ms/step - loss: 0.4546 - accuracy: 0.8338 - val_loss: 0.4052 - val_accuracy: 0.8558\n",
            "Epoch 11/100\n",
            "235/235 [==============================] - 22s 93ms/step - loss: 0.4079 - accuracy: 0.8551\n",
            "Epoch 12/100\n",
            "235/235 [==============================] - 23s 96ms/step - loss: 0.3855 - accuracy: 0.8605\n",
            "Epoch 13/100\n",
            "235/235 [==============================] - 22s 91ms/step - loss: 0.3805 - accuracy: 0.8658\n",
            "Epoch 14/100\n",
            "235/235 [==============================] - 22s 92ms/step - loss: 0.3619 - accuracy: 0.8669\n",
            "Epoch 15/100\n",
            "235/235 [==============================] - 26s 109ms/step - loss: 0.3274 - accuracy: 0.8863 - val_loss: 0.3097 - val_accuracy: 0.8974\n",
            "Epoch 16/100\n",
            "235/235 [==============================] - 22s 91ms/step - loss: 0.3158 - accuracy: 0.8911\n",
            "Epoch 17/100\n",
            "235/235 [==============================] - 21s 88ms/step - loss: 0.3193 - accuracy: 0.8914\n",
            "Epoch 18/100\n",
            "235/235 [==============================] - 22s 90ms/step - loss: 0.2827 - accuracy: 0.9002\n",
            "Epoch 19/100\n",
            "235/235 [==============================] - 21s 88ms/step - loss: 0.2761 - accuracy: 0.9023\n",
            "Epoch 20/100\n",
            "235/235 [==============================] - 26s 106ms/step - loss: 0.2538 - accuracy: 0.9130 - val_loss: 0.2512 - val_accuracy: 0.9167\n",
            "Epoch 21/100\n",
            "235/235 [==============================] - 22s 92ms/step - loss: 0.2598 - accuracy: 0.9117\n",
            "Epoch 22/100\n",
            "235/235 [==============================] - 21s 86ms/step - loss: 0.2637 - accuracy: 0.9114\n",
            "Epoch 23/100\n",
            "235/235 [==============================] - 22s 92ms/step - loss: 0.2888 - accuracy: 0.8981\n",
            "Epoch 24/100\n",
            "235/235 [==============================] - 21s 86ms/step - loss: 0.2807 - accuracy: 0.8983\n",
            "Epoch 25/100\n",
            "235/235 [==============================] - 26s 109ms/step - loss: 0.2175 - accuracy: 0.9197 - val_loss: 0.4231 - val_accuracy: 0.8600\n",
            "Epoch 26/100\n",
            "235/235 [==============================] - 21s 86ms/step - loss: 0.2590 - accuracy: 0.9090\n",
            "Epoch 27/100\n",
            "235/235 [==============================] - 22s 92ms/step - loss: 0.2074 - accuracy: 0.9272\n",
            "Epoch 28/100\n",
            "235/235 [==============================] - 22s 91ms/step - loss: 0.2176 - accuracy: 0.9253\n",
            "Epoch 29/100\n",
            "235/235 [==============================] - 21s 86ms/step - loss: 0.2161 - accuracy: 0.9234\n",
            "Epoch 30/100\n",
            "235/235 [==============================] - 26s 108ms/step - loss: 0.2091 - accuracy: 0.9296 - val_loss: 0.2043 - val_accuracy: 0.9306\n",
            "Epoch 31/100\n",
            "235/235 [==============================] - 21s 86ms/step - loss: 0.2226 - accuracy: 0.9221\n",
            "Epoch 32/100\n",
            "235/235 [==============================] - 22s 94ms/step - loss: 0.2161 - accuracy: 0.9264\n",
            "Epoch 33/100\n",
            "235/235 [==============================] - 22s 92ms/step - loss: 0.1903 - accuracy: 0.9381\n",
            "Epoch 34/100\n",
            "235/235 [==============================] - 22s 91ms/step - loss: 0.1790 - accuracy: 0.9338\n",
            "Epoch 35/100\n",
            "235/235 [==============================] - 26s 108ms/step - loss: 0.1854 - accuracy: 0.9296 - val_loss: 0.2556 - val_accuracy: 0.9241\n",
            "Epoch 36/100\n",
            "235/235 [==============================] - 21s 87ms/step - loss: 0.2010 - accuracy: 0.9362\n",
            "Epoch 37/100\n",
            "235/235 [==============================] - 23s 95ms/step - loss: 0.1830 - accuracy: 0.9365\n",
            "Epoch 38/100\n",
            "235/235 [==============================] - 21s 87ms/step - loss: 0.1806 - accuracy: 0.9386\n",
            "Epoch 39/100\n",
            "235/235 [==============================] - 23s 94ms/step - loss: 0.1879 - accuracy: 0.9386\n",
            "Epoch 40/100\n",
            "235/235 [==============================] - 27s 112ms/step - loss: 0.1663 - accuracy: 0.9477 - val_loss: 0.1791 - val_accuracy: 0.9284\n",
            "Epoch 41/100\n",
            "235/235 [==============================] - 21s 86ms/step - loss: 0.1711 - accuracy: 0.9352\n",
            "Epoch 42/100\n",
            "235/235 [==============================] - 21s 89ms/step - loss: 0.1483 - accuracy: 0.9482\n",
            "Epoch 43/100\n",
            "235/235 [==============================] - 21s 89ms/step - loss: 0.1453 - accuracy: 0.9477\n",
            "Epoch 44/100\n",
            "235/235 [==============================] - 21s 88ms/step - loss: 0.1860 - accuracy: 0.9381\n",
            "Epoch 45/100\n",
            "235/235 [==============================] - 25s 103ms/step - loss: 0.1595 - accuracy: 0.9394 - val_loss: 0.1688 - val_accuracy: 0.9412\n",
            "Epoch 46/100\n",
            "235/235 [==============================] - 21s 86ms/step - loss: 0.1517 - accuracy: 0.9480\n",
            "Epoch 47/100\n",
            "235/235 [==============================] - 21s 89ms/step - loss: 0.1729 - accuracy: 0.9394\n",
            "Epoch 48/100\n",
            "235/235 [==============================] - 21s 89ms/step - loss: 0.1552 - accuracy: 0.9434\n",
            "Epoch 49/100\n",
            "235/235 [==============================] - 21s 85ms/step - loss: 0.1411 - accuracy: 0.9480\n",
            "Epoch 50/100\n",
            "235/235 [==============================] - 25s 106ms/step - loss: 0.1458 - accuracy: 0.9490 - val_loss: 0.2377 - val_accuracy: 0.9220\n",
            "Epoch 51/100\n",
            "235/235 [==============================] - 20s 83ms/step - loss: 0.1939 - accuracy: 0.9328\n",
            "Epoch 52/100\n",
            "235/235 [==============================] - 21s 89ms/step - loss: 0.1396 - accuracy: 0.9517\n",
            "Epoch 53/100\n",
            "235/235 [==============================] - 21s 85ms/step - loss: 0.1338 - accuracy: 0.9512\n",
            "Epoch 54/100\n",
            "235/235 [==============================] - 20s 83ms/step - loss: 0.1450 - accuracy: 0.9485\n",
            "Epoch 55/100\n",
            "235/235 [==============================] - 24s 100ms/step - loss: 0.1673 - accuracy: 0.9432 - val_loss: 0.1775 - val_accuracy: 0.9466\n",
            "Epoch 56/100\n",
            "235/235 [==============================] - 22s 92ms/step - loss: 0.1380 - accuracy: 0.9517\n",
            "Epoch 57/100\n",
            "235/235 [==============================] - 21s 86ms/step - loss: 0.1297 - accuracy: 0.9533\n",
            "Epoch 58/100\n",
            "235/235 [==============================] - 20s 85ms/step - loss: 0.1186 - accuracy: 0.9573\n",
            "Epoch 59/100\n",
            "235/235 [==============================] - 20s 82ms/step - loss: 0.1809 - accuracy: 0.9408\n",
            "Epoch 60/100\n",
            "235/235 [==============================] - 24s 102ms/step - loss: 0.1167 - accuracy: 0.9573 - val_loss: 0.1319 - val_accuracy: 0.9605\n",
            "Epoch 61/100\n",
            "235/235 [==============================] - 20s 82ms/step - loss: 0.1080 - accuracy: 0.9666\n",
            "Epoch 62/100\n",
            "235/235 [==============================] - 20s 84ms/step - loss: 0.1303 - accuracy: 0.9530\n",
            "Epoch 63/100\n",
            "235/235 [==============================] - 20s 82ms/step - loss: 0.1358 - accuracy: 0.9546\n",
            "Epoch 64/100\n",
            "235/235 [==============================] - 21s 89ms/step - loss: 0.1201 - accuracy: 0.9600\n",
            "Epoch 65/100\n",
            "235/235 [==============================] - 24s 102ms/step - loss: 0.1349 - accuracy: 0.9549 - val_loss: 0.1429 - val_accuracy: 0.9509\n",
            "Epoch 66/100\n",
            "235/235 [==============================] - 20s 82ms/step - loss: 0.1012 - accuracy: 0.9664\n",
            "Epoch 67/100\n",
            "235/235 [==============================] - 21s 88ms/step - loss: 0.1252 - accuracy: 0.9565\n",
            "Epoch 68/100\n",
            "235/235 [==============================] - 20s 83ms/step - loss: 0.1227 - accuracy: 0.9589\n",
            "Epoch 69/100\n",
            "235/235 [==============================] - 21s 87ms/step - loss: 0.1231 - accuracy: 0.9592\n",
            "Epoch 70/100\n",
            "235/235 [==============================] - 23s 96ms/step - loss: 0.1219 - accuracy: 0.9578 - val_loss: 0.1435 - val_accuracy: 0.9594\n",
            "Epoch 71/100\n",
            "235/235 [==============================] - 21s 89ms/step - loss: 0.1195 - accuracy: 0.9600\n",
            "Epoch 72/100\n",
            "235/235 [==============================] - 20s 82ms/step - loss: 0.1333 - accuracy: 0.9536\n",
            "Epoch 73/100\n",
            "235/235 [==============================] - 20s 85ms/step - loss: 0.0870 - accuracy: 0.9677\n",
            "Epoch 74/100\n",
            "235/235 [==============================] - 20s 83ms/step - loss: 0.1134 - accuracy: 0.9576\n",
            "Epoch 75/100\n",
            "235/235 [==============================] - 24s 102ms/step - loss: 0.0809 - accuracy: 0.9704 - val_loss: 0.1037 - val_accuracy: 0.9701\n",
            "Epoch 76/100\n",
            "235/235 [==============================] - 20s 85ms/step - loss: 0.1292 - accuracy: 0.9584\n",
            "Epoch 77/100\n",
            "235/235 [==============================] - 22s 91ms/step - loss: 0.1009 - accuracy: 0.9642\n",
            "Epoch 78/100\n",
            "235/235 [==============================] - 20s 84ms/step - loss: 0.1077 - accuracy: 0.9624\n",
            "Epoch 79/100\n",
            "235/235 [==============================] - 22s 90ms/step - loss: 0.1388 - accuracy: 0.9565\n",
            "Epoch 80/100\n",
            "235/235 [==============================] - 23s 96ms/step - loss: 0.0927 - accuracy: 0.9677 - val_loss: 0.1181 - val_accuracy: 0.9615\n",
            "Epoch 81/100\n",
            "235/235 [==============================] - 21s 88ms/step - loss: 0.0929 - accuracy: 0.9682\n",
            "Epoch 82/100\n",
            "235/235 [==============================] - 20s 83ms/step - loss: 0.1317 - accuracy: 0.9536\n",
            "Epoch 83/100\n",
            "235/235 [==============================] - 22s 92ms/step - loss: 0.1207 - accuracy: 0.9586\n",
            "Epoch 84/100\n",
            "235/235 [==============================] - 21s 87ms/step - loss: 0.0940 - accuracy: 0.9680\n",
            "Epoch 85/100\n",
            "235/235 [==============================] - 24s 102ms/step - loss: 0.0912 - accuracy: 0.9680 - val_loss: 0.1868 - val_accuracy: 0.9583\n",
            "Epoch 86/100\n",
            "235/235 [==============================] - 20s 83ms/step - loss: 0.1057 - accuracy: 0.9637\n",
            "Epoch 87/100\n",
            "235/235 [==============================] - 21s 89ms/step - loss: 0.1094 - accuracy: 0.9634\n",
            "Epoch 88/100\n",
            "235/235 [==============================] - 22s 93ms/step - loss: 0.1446 - accuracy: 0.9517\n",
            "Epoch 89/100\n",
            "235/235 [==============================] - 21s 89ms/step - loss: 0.1402 - accuracy: 0.9589\n",
            "Epoch 90/100\n",
            "235/235 [==============================] - 24s 102ms/step - loss: 0.0818 - accuracy: 0.9741 - val_loss: 0.1468 - val_accuracy: 0.9541\n",
            "Epoch 91/100\n",
            "235/235 [==============================] - 20s 82ms/step - loss: 0.1000 - accuracy: 0.9645\n",
            "Epoch 92/100\n",
            "235/235 [==============================] - 21s 89ms/step - loss: 0.0748 - accuracy: 0.9765\n",
            "Epoch 93/100\n",
            "235/235 [==============================] - 20s 82ms/step - loss: 0.1139 - accuracy: 0.9648\n",
            "Epoch 94/100\n",
            "235/235 [==============================] - 21s 88ms/step - loss: 0.0687 - accuracy: 0.9765\n",
            "Epoch 95/100\n",
            "235/235 [==============================] - 24s 102ms/step - loss: 0.1131 - accuracy: 0.9616 - val_loss: 0.1782 - val_accuracy: 0.9359\n",
            "Epoch 96/100\n",
            "235/235 [==============================] - 21s 86ms/step - loss: 0.0992 - accuracy: 0.9682\n",
            "Epoch 97/100\n",
            "235/235 [==============================] - 22s 90ms/step - loss: 0.1230 - accuracy: 0.9605\n",
            "Epoch 98/100\n",
            "235/235 [==============================] - 21s 89ms/step - loss: 0.0878 - accuracy: 0.9725\n",
            "Epoch 99/100\n",
            "235/235 [==============================] - 21s 89ms/step - loss: 0.0879 - accuracy: 0.9709\n",
            "Epoch 100/100\n",
            "235/235 [==============================] - 23s 97ms/step - loss: 0.0778 - accuracy: 0.9739 - val_loss: 0.0793 - val_accuracy: 0.9733\n"
          ]
        }
      ],
      "source": [
        "model3.compile(optimizer='adam',\n",
        "              loss=tf.keras.losses.SparseCategoricalCrossentropy(from_logits=True),\n",
        "              metrics=['accuracy'])\n",
        "\n",
        "#model.summary()\n",
        "\n",
        "epochs=100\n",
        "history = model3.fit(\n",
        "  train_X,\n",
        "  validation_data=val_X,\n",
        "  epochs=epochs,\n",
        "  verbose='auto',\n",
        "  validation_freq=[5,10,15,20,25,30,35,40,45,50, 55, 60, 65, 70, 75, 80, 85, 90, 95, 100]\n",
        ")"
      ]
    }
  ],
  "metadata": {
    "accelerator": "GPU",
    "colab": {
      "gpuType": "T4",
      "provenance": []
    },
    "gpuClass": "standard",
    "kernelspec": {
      "display_name": "Python 3",
      "name": "python3"
    },
    "language_info": {
      "name": "python"
    }
  },
  "nbformat": 4,
  "nbformat_minor": 0
}
